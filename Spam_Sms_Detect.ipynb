{
  "nbformat": 4,
  "nbformat_minor": 0,
  "metadata": {
    "colab": {
      "provenance": [],
      "authorship_tag": "ABX9TyOe6+JDSG+gKArktTopWQe1",
      "include_colab_link": true
    },
    "kernelspec": {
      "name": "python3",
      "display_name": "Python 3"
    },
    "language_info": {
      "name": "python"
    }
  },
  "cells": [
    {
      "cell_type": "markdown",
      "metadata": {
        "id": "view-in-github",
        "colab_type": "text"
      },
      "source": [
        "<a href=\"https://colab.research.google.com/github/Kingbond470/MachineLearning/blob/main/Spam_Sms_Detect.ipynb\" target=\"_parent\"><img src=\"https://colab.research.google.com/assets/colab-badge.svg\" alt=\"Open In Colab\"/></a>"
      ]
    },
    {
      "cell_type": "code",
      "execution_count": 1,
      "metadata": {
        "colab": {
          "base_uri": "https://localhost:8080/"
        },
        "id": "ESCjXNggBfbQ",
        "outputId": "dd7c52ab-fc21-4d2e-9c55-1548853e4ffa"
      },
      "outputs": [
        {
          "output_type": "stream",
          "name": "stdout",
          "text": [
            "Requirement already satisfied: nltk in /usr/local/lib/python3.11/dist-packages (3.9.1)\n",
            "Requirement already satisfied: pandas in /usr/local/lib/python3.11/dist-packages (2.2.2)\n",
            "Requirement already satisfied: scikit-learn in /usr/local/lib/python3.11/dist-packages (1.6.1)\n",
            "Requirement already satisfied: click in /usr/local/lib/python3.11/dist-packages (from nltk) (8.2.1)\n",
            "Requirement already satisfied: joblib in /usr/local/lib/python3.11/dist-packages (from nltk) (1.5.1)\n",
            "Requirement already satisfied: regex>=2021.8.3 in /usr/local/lib/python3.11/dist-packages (from nltk) (2024.11.6)\n",
            "Requirement already satisfied: tqdm in /usr/local/lib/python3.11/dist-packages (from nltk) (4.67.1)\n",
            "Requirement already satisfied: numpy>=1.23.2 in /usr/local/lib/python3.11/dist-packages (from pandas) (2.0.2)\n",
            "Requirement already satisfied: python-dateutil>=2.8.2 in /usr/local/lib/python3.11/dist-packages (from pandas) (2.9.0.post0)\n",
            "Requirement already satisfied: pytz>=2020.1 in /usr/local/lib/python3.11/dist-packages (from pandas) (2025.2)\n",
            "Requirement already satisfied: tzdata>=2022.7 in /usr/local/lib/python3.11/dist-packages (from pandas) (2025.2)\n",
            "Requirement already satisfied: scipy>=1.6.0 in /usr/local/lib/python3.11/dist-packages (from scikit-learn) (1.16.0)\n",
            "Requirement already satisfied: threadpoolctl>=3.1.0 in /usr/local/lib/python3.11/dist-packages (from scikit-learn) (3.6.0)\n",
            "Requirement already satisfied: six>=1.5 in /usr/local/lib/python3.11/dist-packages (from python-dateutil>=2.8.2->pandas) (1.17.0)\n"
          ]
        }
      ],
      "source": [
        "!pip install nltk pandas scikit-learn"
      ]
    },
    {
      "cell_type": "code",
      "source": [
        "import pandas as pd\n",
        "df = pd.read_csv('spam.csv', encoding='latin-1') # Assuming it's tab-separated for common SMS datasets"
      ],
      "metadata": {
        "id": "W-vO4RLXCiIg"
      },
      "execution_count": 9,
      "outputs": []
    },
    {
      "cell_type": "code",
      "source": [
        "print(\"Dataset Head:\")\n",
        "print(df.head())\n",
        "print(\"\\nDataset Shape:\", df.shape)\n",
        "print(\"\\nLabel Distribution:\")\n",
        "print(df['v2'].value_counts())"
      ],
      "metadata": {
        "colab": {
          "base_uri": "https://localhost:8080/"
        },
        "id": "zuZpxWKgEguw",
        "outputId": "88187c41-003e-4883-ad6a-7d33877ff40d"
      },
      "execution_count": 11,
      "outputs": [
        {
          "output_type": "stream",
          "name": "stdout",
          "text": [
            "Dataset Head:\n",
            "     v1                                                 v2 Unnamed: 2  \\\n",
            "0   ham  Go until jurong point, crazy.. Available only ...        NaN   \n",
            "1   ham                      Ok lar... Joking wif u oni...        NaN   \n",
            "2  spam  Free entry in 2 a wkly comp to win FA Cup fina...        NaN   \n",
            "3   ham  U dun say so early hor... U c already then say...        NaN   \n",
            "4   ham  Nah I don't think he goes to usf, he lives aro...        NaN   \n",
            "\n",
            "  Unnamed: 3 Unnamed: 4  \n",
            "0        NaN        NaN  \n",
            "1        NaN        NaN  \n",
            "2        NaN        NaN  \n",
            "3        NaN        NaN  \n",
            "4        NaN        NaN  \n",
            "\n",
            "Dataset Shape: (5572, 5)\n",
            "\n",
            "Label Distribution:\n",
            "v2\n",
            "Sorry, I'll call later                                                                                                                                                                 30\n",
            "I cant pick the phone right now. Pls send a message                                                                                                                                    12\n",
            "Ok...                                                                                                                                                                                  10\n",
            "Wen ur lovable bcums angry wid u, dnt take it seriously.. Coz being angry is d most childish n true way of showing deep affection, care n luv!.. kettoda manda... Have nice day da.     4\n",
            "Okie                                                                                                                                                                                    4\n",
            "                                                                                                                                                                                       ..\n",
            "Dear 0776xxxxxxx U've been invited to XCHAT. This is our final attempt to contact u! Txt CHAT to 86688 150p/MsgrcvdHG/Suite342/2Lands/Row/W1J6HL LDN 18yrs                              1\n",
            "I think asking for a gym is the excuse for lazy people. I jog.                                                                                                                          1\n",
            "I love your ass! Do you enjoy doggy style? :)                                                                                                                                           1\n",
            "Come to me, slave. Your doing it again ... Going into your shell and unconsciously avoiding me ... You are making me unhappy :-(                                                        1\n",
            "CALL 09090900040 & LISTEN TO EXTREME DIRTY LIVE CHAT GOING ON IN THE OFFICE RIGHT NOW TOTAL PRIVACY NO ONE KNOWS YOUR [sic] LISTENING 60P MIN 24/7MP 0870753331018+                     1\n",
            "Name: count, Length: 5169, dtype: int64\n"
          ]
        }
      ]
    },
    {
      "cell_type": "code",
      "source": [
        "from sklearn.preprocessing import LabelEncoder\n",
        "\n",
        "encoder = LabelEncoder()\n",
        "df['v1'] = encoder.fit_transform(df['v1']) # 'ham' will typically be 0, 'spam' will be 1\n",
        "\n",
        "print(\"\\nLabels after encoding:\")\n",
        "print(df.head())\n",
        "print(\"\\nLabel Mappings:\")\n",
        "# This shows which original text label maps to 0 and which to 1\n",
        "print(dict(zip(encoder.classes_, encoder.transform(encoder.classes_))))"
      ],
      "metadata": {
        "colab": {
          "base_uri": "https://localhost:8080/"
        },
        "id": "ITKPd05hLKvv",
        "outputId": "392092c1-d93f-4acb-bd05-f2b592a7451e"
      },
      "execution_count": 13,
      "outputs": [
        {
          "output_type": "stream",
          "name": "stdout",
          "text": [
            "\n",
            "Labels after encoding:\n",
            "   v1                                                 v2 Unnamed: 2  \\\n",
            "0   0  Go until jurong point, crazy.. Available only ...        NaN   \n",
            "1   0                      Ok lar... Joking wif u oni...        NaN   \n",
            "2   1  Free entry in 2 a wkly comp to win FA Cup fina...        NaN   \n",
            "3   0  U dun say so early hor... U c already then say...        NaN   \n",
            "4   0  Nah I don't think he goes to usf, he lives aro...        NaN   \n",
            "\n",
            "  Unnamed: 3 Unnamed: 4  \n",
            "0        NaN        NaN  \n",
            "1        NaN        NaN  \n",
            "2        NaN        NaN  \n",
            "3        NaN        NaN  \n",
            "4        NaN        NaN  \n",
            "\n",
            "Label Mappings:\n",
            "{'ham': np.int64(0), 'spam': np.int64(1)}\n"
          ]
        }
      ]
    },
    {
      "cell_type": "code",
      "source": [
        "import re\n",
        "import nltk\n",
        "from nltk.corpus import stopwords\n",
        "from nltk.stem import PorterStemmer\n",
        "\n",
        "# Download NLTK data (run this cell once if you haven't)\n",
        "nltk.download('stopwords')\n",
        "nltk.download('punkt')\n",
        "\n",
        "stemmer = PorterStemmer() # For stemming words\n",
        "stop_words = set(stopwords.words('english')) # Common words to remove\n",
        "\n",
        "def preprocess_sms(text):\n",
        "    # 1. Convert to Lowercase: Standardizes casing.\n",
        "    text = text.lower()\n",
        "\n",
        "    # 2. Remove URLs: URLs are common in spam but vary greatly.\n",
        "    text = re.sub(r'http\\S+|www\\S+|https\\S+', '', text, flags=re.MULTILINE)\n",
        "\n",
        "    # 3. Remove Punctuation and Special Characters: Keep only letters, numbers, and spaces.\n",
        "    text = re.sub(r'[^a-z0-9\\s]', '', text)\n",
        "\n",
        "    # 4. Remove Numbers (Optional): Often, numbers don't add much to spam detection.\n",
        "    #    Uncomment the line below if you wish to remove numbers.\n",
        "    #    text = re.sub(r'\\d+', '', text)\n",
        "\n",
        "    # 5. Tokenize: Split the text into individual words.\n",
        "    words = text.split()\n",
        "\n",
        "    # 6. Remove Stopwords and Apply Stemming:\n",
        "    #    Stopwords (like \"the\", \"is\") are common and usually don't indicate spam.\n",
        "    #    Stemming reduces words to their root form (e.g., \"running\", \"runs\" -> \"run\").\n",
        "    cleaned_words = []\n",
        "    for word in words:\n",
        "        if word not in stop_words:\n",
        "            cleaned_words.append(stemmer.stem(word))\n",
        "\n",
        "    # 7. Join back into a single string for vectorization.\n",
        "    return \" \".join(cleaned_words)\n",
        "\n",
        "# Apply the preprocessing function to your 'message' column\n",
        "df['cleaned_message'] = df['v2'].apply(preprocess_sms)\n",
        "\n",
        "print(\"\\nMessages after cleaning (first 5 original vs. cleaned):\")\n",
        "print(df[['v2', 'cleaned_message']].head())"
      ],
      "metadata": {
        "colab": {
          "base_uri": "https://localhost:8080/"
        },
        "id": "BIiRS81ZL-ih",
        "outputId": "03241c09-e6ed-4507-fe5a-aac404b48e60"
      },
      "execution_count": 15,
      "outputs": [
        {
          "output_type": "stream",
          "name": "stderr",
          "text": [
            "[nltk_data] Downloading package stopwords to /root/nltk_data...\n",
            "[nltk_data]   Unzipping corpora/stopwords.zip.\n",
            "[nltk_data] Downloading package punkt to /root/nltk_data...\n",
            "[nltk_data]   Unzipping tokenizers/punkt.zip.\n"
          ]
        },
        {
          "output_type": "stream",
          "name": "stdout",
          "text": [
            "\n",
            "Messages after cleaning (first 5 original vs. cleaned):\n",
            "                                                  v2  \\\n",
            "0  Go until jurong point, crazy.. Available only ...   \n",
            "1                      Ok lar... Joking wif u oni...   \n",
            "2  Free entry in 2 a wkly comp to win FA Cup fina...   \n",
            "3  U dun say so early hor... U c already then say...   \n",
            "4  Nah I don't think he goes to usf, he lives aro...   \n",
            "\n",
            "                                     cleaned_message  \n",
            "0  go jurong point crazi avail bugi n great world...  \n",
            "1                              ok lar joke wif u oni  \n",
            "2  free entri 2 wkli comp win fa cup final tkt 21...  \n",
            "3                u dun say earli hor u c alreadi say  \n",
            "4          nah dont think goe usf live around though  \n"
          ]
        }
      ]
    },
    {
      "cell_type": "code",
      "source": [
        "from sklearn.feature_extraction.text import TfidfVectorizer\n",
        "\n",
        "# Initialize TF-IDF Vectorizer\n",
        "# max_features=5000: Limits the vocabulary size to the 5000 most frequent words/bigrams.\n",
        "#                    This helps manage dimensionality and focus on important terms.\n",
        "# ngram_range=(1,2): Considers individual words (unigrams) and sequences of two words (bigrams).\n",
        "#                    Bigrams like \"free money\" or \"click here\" are often strong spam indicators.\n",
        "tfidf_vectorizer = TfidfVectorizer(max_features=5000, ngram_range=(1,2))\n",
        "\n",
        "# Fit the vectorizer to your cleaned training data and then transform it.\n",
        "# X will be a sparse matrix of TF-IDF scores.\n",
        "X = tfidf_vectorizer.fit_transform(df['cleaned_message'])\n",
        "y = df['v1'] # Our numerical labels\n",
        "\n",
        "# Check the shape of the feature matrix (number of messages x number of features)\n",
        "print(f\"\\nShape of feature matrix (X): {X.shape}\")"
      ],
      "metadata": {
        "colab": {
          "base_uri": "https://localhost:8080/"
        },
        "id": "aXJfhb6ZNZ_q",
        "outputId": "615c6b07-de5f-4a73-d527-9d12a87db937"
      },
      "execution_count": 16,
      "outputs": [
        {
          "output_type": "stream",
          "name": "stdout",
          "text": [
            "\n",
            "Shape of feature matrix (X): (5572, 5000)\n"
          ]
        }
      ]
    },
    {
      "cell_type": "code",
      "source": [
        "from sklearn.model_selection import train_test_split\n",
        "\n",
        "# Split data: 80% for training, 20% for testing\n",
        "# random_state=42: Ensures reproducibility of your split.\n",
        "# stratify=y: Crucial for imbalanced datasets (like spam/ham). It ensures that\n",
        "#             the training and testing sets have roughly the same proportion\n",
        "#             of 'spam' and 'ham' messages as the original dataset.\n",
        "X_train, X_test, y_train, y_test = train_test_split(X, y, test_size=0.2, random_state=42, stratify=y)\n",
        "\n",
        "print(f\"\\nX_train shape: {X_train.shape}\")\n",
        "print(f\"X_test shape: {X_test.shape}\")\n",
        "print(f\"\\ny_train label distribution (proportion of ham/spam):\\n{pd.Series(y_train).value_counts(normalize=True)}\")\n",
        "print(f\"y_test label distribution (proportion of ham/spam):\\n{pd.Series(y_test).value_counts(normalize=True)}\")"
      ],
      "metadata": {
        "colab": {
          "base_uri": "https://localhost:8080/"
        },
        "id": "EFw5B_s5OQkd",
        "outputId": "f020623b-c37b-45d9-fd7e-4347c4692b3a"
      },
      "execution_count": 17,
      "outputs": [
        {
          "output_type": "stream",
          "name": "stdout",
          "text": [
            "\n",
            "X_train shape: (4457, 5000)\n",
            "X_test shape: (1115, 5000)\n",
            "\n",
            "y_train label distribution (proportion of ham/spam):\n",
            "v1\n",
            "0    0.865829\n",
            "1    0.134171\n",
            "Name: proportion, dtype: float64\n",
            "y_test label distribution (proportion of ham/spam):\n",
            "v1\n",
            "0    0.866368\n",
            "1    0.133632\n",
            "Name: proportion, dtype: float64\n"
          ]
        }
      ]
    },
    {
      "cell_type": "code",
      "source": [
        "from sklearn.naive_bayes import MultinomialNB\n",
        "from sklearn.svm import SVC\n",
        "from sklearn.linear_model import LogisticRegression\n",
        "\n",
        "# Choose your model. Multinomial Naive Bayes is a great starting point for text.\n",
        "# Uncomment other models to experiment.\n",
        "\n",
        "# Option 1: Multinomial Naive Bayes (Highly recommended for text data)\n",
        "model = MultinomialNB()\n",
        "\n",
        "# Option 2: Support Vector Machine (Often achieves high performance, but can be slower for large datasets)\n",
        "# model = SVC(kernel='linear', random_state=42, probability=True) # probability=True if you need prediction probabilities\n",
        "\n",
        "# Option 3: Logistic Regression (Simple, interpretable, and effective)\n",
        "# model = LogisticRegression(solver='liblinear', random_state=42, max_iter=1000) # 'liblinear' is good for small datasets/L1 regularization\n",
        "\n",
        "# Train the chosen model on the training data\n",
        "model.fit(X_train, y_train)\n",
        "\n",
        "print(f\"\\nModel trained successfully: {type(model).__name__}\")"
      ],
      "metadata": {
        "colab": {
          "base_uri": "https://localhost:8080/"
        },
        "id": "h-zxhfQNOzrN",
        "outputId": "1a289ce4-0990-4c03-da80-181ea7840704"
      },
      "execution_count": 18,
      "outputs": [
        {
          "output_type": "stream",
          "name": "stdout",
          "text": [
            "\n",
            "Model trained successfully: MultinomialNB\n"
          ]
        }
      ]
    },
    {
      "cell_type": "code",
      "source": [
        "from sklearn.metrics import accuracy_score, precision_score, recall_score, f1_score, confusion_matrix, classification_report\n",
        "import seaborn as sns\n",
        "import matplotlib.pyplot as plt\n",
        "\n",
        "# Make predictions on the test set\n",
        "y_pred = model.predict(X_test)\n",
        "\n",
        "# Calculate key evaluation metrics\n",
        "accuracy = accuracy_score(y_test, y_pred)\n",
        "# For precision, recall, f1-score, we specify pos_label=1 assuming 'spam' is encoded as 1.\n",
        "# This focuses on how well the model identifies spam.\n",
        "precision = precision_score(y_test, y_pred, pos_label=1) # High precision means fewer false positives (legit SMS marked as spam)\n",
        "recall = recall_score(y_test, y_pred, pos_label=1)       # High recall means fewer false negatives (spam SMS missed)\n",
        "f1 = f1_score(y_test, y_pred, pos_label=1)               # Harmonic mean of precision and recall\n",
        "\n",
        "print(f\"\\nAccuracy: {accuracy:.4f}\")\n",
        "print(f\"Precision (Spam): {precision:.4f}\")\n",
        "print(f\"Recall (Spam): {recall:.4f}\")\n",
        "print(f\"F1-Score (Spam): {f1:.4f}\")\n",
        "\n",
        "# Generate and print the full classification report\n",
        "print(\"\\nClassification Report:\\n\", classification_report(y_test, y_pred, target_names=['ham', 'spam']))\n",
        "\n",
        "# Visualize the Confusion Matrix for a clear breakdown of correct/incorrect predictions\n",
        "cm = confusion_matrix(y_test, y_pred)\n",
        "plt.figure(figsize=(6, 5))\n",
        "sns.heatmap(cm, annot=True, fmt=\"d\", cmap=\"Blues\",\n",
        "            xticklabels=['ham', 'spam'], yticklabels=['ham', 'spam'])\n",
        "plt.xlabel('Predicted Label')\n",
        "plt.ylabel('True Label')\n",
        "plt.title('Confusion Matrix')\n",
        "plt.show()"
      ],
      "metadata": {
        "colab": {
          "base_uri": "https://localhost:8080/",
          "height": 765
        },
        "id": "avba0dRQPRt3",
        "outputId": "55116a53-2bab-4e62-9e8e-001fca298aea"
      },
      "execution_count": 19,
      "outputs": [
        {
          "output_type": "stream",
          "name": "stdout",
          "text": [
            "\n",
            "Accuracy: 0.9731\n",
            "Precision (Spam): 0.9917\n",
            "Recall (Spam): 0.8054\n",
            "F1-Score (Spam): 0.8889\n",
            "\n",
            "Classification Report:\n",
            "               precision    recall  f1-score   support\n",
            "\n",
            "         ham       0.97      1.00      0.98       966\n",
            "        spam       0.99      0.81      0.89       149\n",
            "\n",
            "    accuracy                           0.97      1115\n",
            "   macro avg       0.98      0.90      0.94      1115\n",
            "weighted avg       0.97      0.97      0.97      1115\n",
            "\n"
          ]
        },
        {
          "output_type": "display_data",
          "data": {
            "text/plain": [
              "<Figure size 600x500 with 2 Axes>"
            ],
            "image/png": "[encoded data removed]"
          },
          "metadata": {}
        }
      ]
    },
    {
      "cell_type": "code",
      "source": [
        "from sklearn.model_selection import GridSearchCV\n",
        "\n",
        "# Define a dictionary of hyperparameters and their possible values for Multinomial Naive Bayes\n",
        "# 'alpha' is a smoothing parameter that helps with words not seen in training.\n",
        "param_grid_mnb = {'alpha': [0.01, 0.1, 0.5, 1.0, 2.0]}\n",
        "\n",
        "# For other models, the param_grid would look different:\n",
        "# For Logistic Regression:\n",
        "# param_grid_lr = {'C': [0.01, 0.1, 1, 10, 100], 'penalty': ['l1', 'l2'], 'solver': ['liblinear']}\n",
        "# For SVM:\n",
        "# param_grid_svc = {'C': [0.1, 1, 10], 'gamma': [1, 0.1, 0.01], 'kernel': ['linear', 'rbf']}\n",
        "\n",
        "# Initialize GridSearchCV\n",
        "# estimator: The model you want to tune (e.g., MultinomialNB())\n",
        "# param_grid: The dictionary of parameters to try\n",
        "# cv=5: Performs 5-fold cross-validation during tuning for more robust evaluation.\n",
        "# scoring='f1': Optimizes for F1-score, which is good for imbalanced datasets.\n",
        "# n_jobs=-1: Uses all available CPU cores for faster computation.\n",
        "grid_search = GridSearchCV(MultinomialNB(), param_grid_mnb, cv=5, scoring='f1', n_jobs=-1)\n",
        "\n",
        "# Fit GridSearchCV to your training data\n",
        "grid_search.fit(X_train, y_train)\n",
        "\n",
        "print(f\"\\nBest parameters found: {grid_search.best_params_}\")\n",
        "print(f\"Best F1-score on training data (cross-validation): {grid_search.best_score_:.4f}\")\n",
        "\n",
        "# Get the best performing model from the grid search\n",
        "best_model = grid_search.best_estimator_\n",
        "\n",
        "# Evaluate this best model on the unseen test set\n",
        "y_pred_best = best_model.predict(X_test)\n",
        "print(\"\\nEvaluation with Best Model on Test Set:\")\n",
        "print(classification_report(y_test, y_pred_best, target_names=['ham', 'spam']))"
      ],
      "metadata": {
        "colab": {
          "base_uri": "https://localhost:8080/"
        },
        "id": "9qhu-tk1SfnK",
        "outputId": "dfdf0e59-74e8-4196-bf11-e8c4a2469b92"
      },
      "execution_count": 20,
      "outputs": [
        {
          "output_type": "stream",
          "name": "stdout",
          "text": [
            "\n",
            "Best parameters found: {'alpha': 0.1}\n",
            "Best F1-score on training data (cross-validation): 0.9387\n",
            "\n",
            "Evaluation with Best Model on Test Set:\n",
            "              precision    recall  f1-score   support\n",
            "\n",
            "         ham       0.98      1.00      0.99       966\n",
            "        spam       0.98      0.87      0.92       149\n",
            "\n",
            "    accuracy                           0.98      1115\n",
            "   macro avg       0.98      0.93      0.96      1115\n",
            "weighted avg       0.98      0.98      0.98      1115\n",
            "\n"
          ]
        }
      ]
    },
    {
      "cell_type": "code",
      "source": [
        "import joblib\n",
        "from google.colab import drive\n",
        "\n",
        "# Mount Google Drive (if it's not already mounted)\n",
        "# This will prompt you to authorize Google Drive access.\n",
        "if not drive.is_mounted('/content/drive'):\n",
        "    drive.mounted('/content/drive')"
      ],
      "metadata": {
        "id": "Tr1wx6D6Srmd"
      },
      "execution_count": null,
      "outputs": []
    }
  ]
}